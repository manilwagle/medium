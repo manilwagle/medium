{
 "cells": [
  {
   "cell_type": "markdown",
   "metadata": {},
   "source": [
    "# Monte Carlo Simulation in Retail Industry: How to make informed decisions when you don't have enough data"
   ]
  },
  {
   "cell_type": "code",
   "execution_count": 1,
   "metadata": {},
   "outputs": [
    {
     "data": {
      "image/png": "[encoded data removed]",
      "text/plain": [
       "<Figure size 432x288 with 1 Axes>"
      ]
     },
     "metadata": {
      "needs_background": "light"
     },
     "output_type": "display_data"
    },
    {
     "name": "stdout",
     "output_type": "stream",
     "text": [
      "Mean incremental sales: 1314644111.567895\n",
      "Standard deviation of incremental sales: 495779190.1705658\n",
      "Expanding the store size is expected to generate incremental sales.\n"
     ]
    }
   ],
   "source": [
    "import pandas as pd\n",
    "import numpy as np\n",
    "import matplotlib.pyplot as plt\n",
    "\n",
    "# Load in the sales data\n",
    "sales_data = pd.read_csv(\"sales_data1.csv\")\n",
    "sales_data['date'] = pd.to_datetime(sales_data['date'])\n",
    "sales_data = sales_data.set_index('date')\n",
    "\n",
    "# Create a variable for the fixed store size\n",
    "sales_data['fixed_size'] = 14197\n",
    "\n",
    "# Define the parameters for the simulation (we are running 20 million random scenarios)\n",
    "mean_sales = sales_data['sales'].mean()\n",
    "std_sales = sales_data['sales'].std()\n",
    "num_iterations = 20000000\n",
    "expanded_size = 50000\n",
    "\n",
    "# Run the Monte Carlo simulation\n",
    "incremental_sales = []\n",
    "for i in range(num_iterations):\n",
    "    sampled_sales = np.random.normal(mean_sales, std_sales)\n",
    "    original_sales = sampled_sales * (15000 / 15000)\n",
    "    expanded_sales = sampled_sales * (expanded_size / 15000)\n",
    "    incremental_sales.append(expanded_sales - original_sales)\n",
    "\n",
    "# Plot the distribution of incremental sales\n",
    "plt.hist(incremental_sales, bins=50, density=True)\n",
    "plt.xlabel(\"Incremental Sales\")\n",
    "plt.ylabel(\"Frequency\")\n",
    "plt.title(\"Distribution of Incremental Sales from Expansion\")\n",
    "plt.show()\n",
    "\n",
    "# Calculate the mean and standard deviation of incremental sales\n",
    "mean_incremental_sales = np.mean(incremental_sales)\n",
    "std_incremental_sales = np.std(incremental_sales)\n",
    "\n",
    "# Print the results\n",
    "print(\"Mean incremental sales:\", mean_incremental_sales)\n",
    "print(\"Standard deviation of incremental sales:\", std_incremental_sales)\n",
    "\n",
    "\n",
    "# Compare the mean sales for each scenario\n",
    "if mean_incremental_sales > mean_sales:\n",
    "    print(\"Expanding the store size is expected to generate incremental sales.\")\n",
    "else:\n",
    "    print(\"Expanding the store size is not expected to generate incremental sales.\")\n"
   ]
  }
 ],
 "metadata": {
  "kernelspec": {
   "display_name": "Python 3.6 - AzureML",
   "language": "python",
   "name": "python3-azureml"
  },
  "language_info": {
   "codemirror_mode": {
    "name": "ipython",
    "version": 3
   },
   "file_extension": ".py",
   "mimetype": "text/x-python",
   "name": "python",
   "nbconvert_exporter": "python",
   "pygments_lexer": "ipython3",
   "version": "3.6.9"
  }
 },
 "nbformat": 4,
 "nbformat_minor": 2
}
